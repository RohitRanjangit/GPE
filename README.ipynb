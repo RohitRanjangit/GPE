{
 "cells": [
  {
   "cell_type": "markdown",
   "metadata": {},
   "source": [
    "# The Gross-Pitaevskii equation using spectral method in 1D & 2D\n",
    "\n",
    "The Gross-Pitaevskii equation (GPE), a nonlinear Schr ̈odinger equation (NLSE)\n",
    "for the macroscopic wave functions, governs the properties of a BEC at temperatures\n",
    "$T$ far below the critical condensation temperature $T_c$. The GPE includes a term for\n",
    "the trap potential as well as the mean field interaction between atoms in the gas which\n",
    "manifests as a nonlinear term. Attractive interactions as well as repulsive interactions\n",
    "are accounted for in the GPE through the use of a focussing constant which may be\n",
    "positive (focussing) or negative (defocussing). \n",
    "\n",
    "## The Gross-Pitaevskii equation\n",
    "**Time dependent Equation is:**\n",
    "$\n",
    "-i\\hbar\\frac{\\partial\\psi(\\bold{x}, t)}{\\partial t} = -\\frac{\\hbar}{2m}\\nabla^2\\psi(\\bold{x}) + \\bold{V}(\\bold{x}) \\psi(\\bold{x})  + NU_0 |\\psi(\\bold{x})|^2\\psi(\\bold{x})\n",
    "$\n",
    "\n",
    "where:\n",
    "$\n",
    "U_0 = \\frac{4\\pi\\hbar^2a}{m} (a \\text{ is scattering length)}\n",
    "$\n",
    "### Methodology: ###\n",
    "I've solved this equation numerically by using  time-splitting trigonometric spectral approximations of the problem, with periodic boundary conditions. \n",
    "## Simulations in 1D & 2D\n",
    "I've Used time spitting sprectral scheme Lie splitting followed by strang splitting spectral method.\n",
    "The time-splitting spectral schemes LS and SS are unconditionally\n",
    "stable. In fact,under any mesh size $\\Delta \\bold{x}$ and time step $\\Delta t$.\n",
    "\n",
    "### Animation in 1-D\n",
    "The animation of the wave function is shown below.\n",
    "![](animation-1D.gif)\n",
    "Simulation of $\\psi(x, t)$ in 1-D. At $\\Delta x = \\frac{2\\pi}{500}$, $\\Delta t = 0.01$ and $ -\\pi \\le x \\le \\pi$.\n",
    "\n",
    "Potential is $V(x) = \\frac{x^2}{2}$ and $\\psi(x,0) = \\frac{1}{(\\pi)^\\frac{1}{4}}\\exp(\\frac{-x^2}{2})$\n",
    "\n",
    "### Animation in 2-D\n",
    "![](animation-2D.gif)\n",
    "Simulation of $\\psi(x,y, t)$ in 2-D. At $\\Delta x = \\Delta y =\\frac{2\\pi}{256}$, $\\Delta t = 0.01$ and $ -\\pi \\le x \\le \\pi$, $ -\\pi \\le y \\le \\pi$.\n",
    "\n",
    "Potential is $V(x, y) = \\frac{(x^2 + y^2 )}{2}$ and $\\psi(x, y,0) = \\frac{1}{\\sqrt{\\pi}}\\exp(\\frac{-(x^2 + y^2)}{2})$.\n",
    "\n",
    "\n",
    "## Refrences: ##\n",
    "\n",
    "Galati, Luigi, \"Numerical Solutions to the Gross-Pitaevskii Equation for Bose-Einstein \n",
    "Condensates\" (2013). Electronic Theses and Dissertations. 844. "
   ]
  }
 ],
 "metadata": {
  "interpreter": {
   "hash": "31f2aee4e71d21fbe5cf8b01ff0e069b9275f58929596ceb00d14d90e3e16cd6"
  },
  "kernelspec": {
   "display_name": "Python 3.8.10 64-bit",
   "language": "python",
   "name": "python3"
  },
  "language_info": {
   "name": "python",
   "version": "3.8.10"
  },
  "orig_nbformat": 4
 },
 "nbformat": 4,
 "nbformat_minor": 2
}
